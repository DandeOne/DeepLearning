{
 "cells": [
  {
   "cell_type": "markdown",
   "metadata": {},
   "source": [
    "# Libraries and dataset"
   ]
  },
  {
   "cell_type": "markdown",
   "metadata": {},
   "source": [
    "Using tensorflow 2.0.0 and mnist dataset"
   ]
  },
  {
   "cell_type": "code",
   "execution_count": 2,
   "metadata": {},
   "outputs": [],
   "source": [
    "import numpy as np\n",
    "import pandas as pd\n",
    "import matplotlib.pyplot as plt"
   ]
  },
  {
   "cell_type": "code",
   "execution_count": 4,
   "metadata": {},
   "outputs": [
    {
     "data": {
      "text/plain": [
       "'2.0.0'"
      ]
     },
     "execution_count": 4,
     "metadata": {},
     "output_type": "execute_result"
    }
   ],
   "source": [
    "import tensorflow as tf\n",
    "tf.__version__"
   ]
  },
  {
   "cell_type": "code",
   "execution_count": 18,
   "metadata": {},
   "outputs": [],
   "source": [
    "from tensorflow.keras.datasets import mnist"
   ]
  },
  {
   "cell_type": "markdown",
   "metadata": {},
   "source": [
    "# Looking into the data"
   ]
  },
  {
   "cell_type": "code",
   "execution_count": 19,
   "metadata": {},
   "outputs": [],
   "source": [
    "(X_train, y_train), (X_test, y_test) = mnist.load_data()"
   ]
  },
  {
   "cell_type": "code",
   "execution_count": 6,
   "metadata": {
    "scrolled": true
   },
   "outputs": [
    {
     "data": {
      "text/plain": [
       "array([[[0, 0, 0, ..., 0, 0, 0],\n",
       "        [0, 0, 0, ..., 0, 0, 0],\n",
       "        [0, 0, 0, ..., 0, 0, 0],\n",
       "        ...,\n",
       "        [0, 0, 0, ..., 0, 0, 0],\n",
       "        [0, 0, 0, ..., 0, 0, 0],\n",
       "        [0, 0, 0, ..., 0, 0, 0]],\n",
       "\n",
       "       [[0, 0, 0, ..., 0, 0, 0],\n",
       "        [0, 0, 0, ..., 0, 0, 0],\n",
       "        [0, 0, 0, ..., 0, 0, 0],\n",
       "        ...,\n",
       "        [0, 0, 0, ..., 0, 0, 0],\n",
       "        [0, 0, 0, ..., 0, 0, 0],\n",
       "        [0, 0, 0, ..., 0, 0, 0]],\n",
       "\n",
       "       [[0, 0, 0, ..., 0, 0, 0],\n",
       "        [0, 0, 0, ..., 0, 0, 0],\n",
       "        [0, 0, 0, ..., 0, 0, 0],\n",
       "        ...,\n",
       "        [0, 0, 0, ..., 0, 0, 0],\n",
       "        [0, 0, 0, ..., 0, 0, 0],\n",
       "        [0, 0, 0, ..., 0, 0, 0]],\n",
       "\n",
       "       ...,\n",
       "\n",
       "       [[0, 0, 0, ..., 0, 0, 0],\n",
       "        [0, 0, 0, ..., 0, 0, 0],\n",
       "        [0, 0, 0, ..., 0, 0, 0],\n",
       "        ...,\n",
       "        [0, 0, 0, ..., 0, 0, 0],\n",
       "        [0, 0, 0, ..., 0, 0, 0],\n",
       "        [0, 0, 0, ..., 0, 0, 0]],\n",
       "\n",
       "       [[0, 0, 0, ..., 0, 0, 0],\n",
       "        [0, 0, 0, ..., 0, 0, 0],\n",
       "        [0, 0, 0, ..., 0, 0, 0],\n",
       "        ...,\n",
       "        [0, 0, 0, ..., 0, 0, 0],\n",
       "        [0, 0, 0, ..., 0, 0, 0],\n",
       "        [0, 0, 0, ..., 0, 0, 0]],\n",
       "\n",
       "       [[0, 0, 0, ..., 0, 0, 0],\n",
       "        [0, 0, 0, ..., 0, 0, 0],\n",
       "        [0, 0, 0, ..., 0, 0, 0],\n",
       "        ...,\n",
       "        [0, 0, 0, ..., 0, 0, 0],\n",
       "        [0, 0, 0, ..., 0, 0, 0],\n",
       "        [0, 0, 0, ..., 0, 0, 0]]], dtype=uint8)"
      ]
     },
     "execution_count": 6,
     "metadata": {},
     "output_type": "execute_result"
    }
   ],
   "source": [
    "X_train"
   ]
  },
  {
   "cell_type": "code",
   "execution_count": 10,
   "metadata": {},
   "outputs": [
    {
     "data": {
      "text/plain": [
       "array([5, 0, 4, ..., 5, 6, 8], dtype=uint8)"
      ]
     },
     "execution_count": 10,
     "metadata": {},
     "output_type": "execute_result"
    }
   ],
   "source": [
    "y_train"
   ]
  },
  {
   "cell_type": "code",
   "execution_count": 7,
   "metadata": {
    "scrolled": true
   },
   "outputs": [
    {
     "data": {
      "text/plain": [
       "array([[  0,   0,   0,   0,   0,   0,   0,   0,   0,   0,   0,   0,   0,\n",
       "          0,   0,   0,   0,   0,   0,   0,   0,   0,   0,   0,   0,   0,\n",
       "          0,   0],\n",
       "       [  0,   0,   0,   0,   0,   0,   0,   0,   0,   0,   0,   0,   0,\n",
       "          0,   0,   0,   0,   0,   0,   0,   0,   0,   0,   0,   0,   0,\n",
       "          0,   0],\n",
       "       [  0,   0,   0,   0,   0,   0,   0,   0,   0,   0,   0,   0,   0,\n",
       "          0,   0,   0,   0,   0,   0,   0,   0,   0,   0,   0,   0,   0,\n",
       "          0,   0],\n",
       "       [  0,   0,   0,   0,   0,   0,   0,   0,   0,   0,   0,   0,   0,\n",
       "          0,   0,   0,   0,   0,   0,   0,   0,   0,   0,   0,   0,   0,\n",
       "          0,   0],\n",
       "       [  0,   0,   0,   0,   0,   0,   0,   0,   0,   0,   0,   0,   0,\n",
       "          0,   0,   0,   0,   0,   0,   0,   0,   0,   0,   0,   0,   0,\n",
       "          0,   0],\n",
       "       [  0,   0,   0,   0,   0,   0,   0,   0,   0,   0,   0,   0,   3,\n",
       "         18,  18,  18, 126, 136, 175,  26, 166, 255, 247, 127,   0,   0,\n",
       "          0,   0],\n",
       "       [  0,   0,   0,   0,   0,   0,   0,   0,  30,  36,  94, 154, 170,\n",
       "        253, 253, 253, 253, 253, 225, 172, 253, 242, 195,  64,   0,   0,\n",
       "          0,   0],\n",
       "       [  0,   0,   0,   0,   0,   0,   0,  49, 238, 253, 253, 253, 253,\n",
       "        253, 253, 253, 253, 251,  93,  82,  82,  56,  39,   0,   0,   0,\n",
       "          0,   0],\n",
       "       [  0,   0,   0,   0,   0,   0,   0,  18, 219, 253, 253, 253, 253,\n",
       "        253, 198, 182, 247, 241,   0,   0,   0,   0,   0,   0,   0,   0,\n",
       "          0,   0],\n",
       "       [  0,   0,   0,   0,   0,   0,   0,   0,  80, 156, 107, 253, 253,\n",
       "        205,  11,   0,  43, 154,   0,   0,   0,   0,   0,   0,   0,   0,\n",
       "          0,   0],\n",
       "       [  0,   0,   0,   0,   0,   0,   0,   0,   0,  14,   1, 154, 253,\n",
       "         90,   0,   0,   0,   0,   0,   0,   0,   0,   0,   0,   0,   0,\n",
       "          0,   0],\n",
       "       [  0,   0,   0,   0,   0,   0,   0,   0,   0,   0,   0, 139, 253,\n",
       "        190,   2,   0,   0,   0,   0,   0,   0,   0,   0,   0,   0,   0,\n",
       "          0,   0],\n",
       "       [  0,   0,   0,   0,   0,   0,   0,   0,   0,   0,   0,  11, 190,\n",
       "        253,  70,   0,   0,   0,   0,   0,   0,   0,   0,   0,   0,   0,\n",
       "          0,   0],\n",
       "       [  0,   0,   0,   0,   0,   0,   0,   0,   0,   0,   0,   0,  35,\n",
       "        241, 225, 160, 108,   1,   0,   0,   0,   0,   0,   0,   0,   0,\n",
       "          0,   0],\n",
       "       [  0,   0,   0,   0,   0,   0,   0,   0,   0,   0,   0,   0,   0,\n",
       "         81, 240, 253, 253, 119,  25,   0,   0,   0,   0,   0,   0,   0,\n",
       "          0,   0],\n",
       "       [  0,   0,   0,   0,   0,   0,   0,   0,   0,   0,   0,   0,   0,\n",
       "          0,  45, 186, 253, 253, 150,  27,   0,   0,   0,   0,   0,   0,\n",
       "          0,   0],\n",
       "       [  0,   0,   0,   0,   0,   0,   0,   0,   0,   0,   0,   0,   0,\n",
       "          0,   0,  16,  93, 252, 253, 187,   0,   0,   0,   0,   0,   0,\n",
       "          0,   0],\n",
       "       [  0,   0,   0,   0,   0,   0,   0,   0,   0,   0,   0,   0,   0,\n",
       "          0,   0,   0,   0, 249, 253, 249,  64,   0,   0,   0,   0,   0,\n",
       "          0,   0],\n",
       "       [  0,   0,   0,   0,   0,   0,   0,   0,   0,   0,   0,   0,   0,\n",
       "          0,  46, 130, 183, 253, 253, 207,   2,   0,   0,   0,   0,   0,\n",
       "          0,   0],\n",
       "       [  0,   0,   0,   0,   0,   0,   0,   0,   0,   0,   0,   0,  39,\n",
       "        148, 229, 253, 253, 253, 250, 182,   0,   0,   0,   0,   0,   0,\n",
       "          0,   0],\n",
       "       [  0,   0,   0,   0,   0,   0,   0,   0,   0,   0,  24, 114, 221,\n",
       "        253, 253, 253, 253, 201,  78,   0,   0,   0,   0,   0,   0,   0,\n",
       "          0,   0],\n",
       "       [  0,   0,   0,   0,   0,   0,   0,   0,  23,  66, 213, 253, 253,\n",
       "        253, 253, 198,  81,   2,   0,   0,   0,   0,   0,   0,   0,   0,\n",
       "          0,   0],\n",
       "       [  0,   0,   0,   0,   0,   0,  18, 171, 219, 253, 253, 253, 253,\n",
       "        195,  80,   9,   0,   0,   0,   0,   0,   0,   0,   0,   0,   0,\n",
       "          0,   0],\n",
       "       [  0,   0,   0,   0,  55, 172, 226, 253, 253, 253, 253, 244, 133,\n",
       "         11,   0,   0,   0,   0,   0,   0,   0,   0,   0,   0,   0,   0,\n",
       "          0,   0],\n",
       "       [  0,   0,   0,   0, 136, 253, 253, 253, 212, 135, 132,  16,   0,\n",
       "          0,   0,   0,   0,   0,   0,   0,   0,   0,   0,   0,   0,   0,\n",
       "          0,   0],\n",
       "       [  0,   0,   0,   0,   0,   0,   0,   0,   0,   0,   0,   0,   0,\n",
       "          0,   0,   0,   0,   0,   0,   0,   0,   0,   0,   0,   0,   0,\n",
       "          0,   0],\n",
       "       [  0,   0,   0,   0,   0,   0,   0,   0,   0,   0,   0,   0,   0,\n",
       "          0,   0,   0,   0,   0,   0,   0,   0,   0,   0,   0,   0,   0,\n",
       "          0,   0],\n",
       "       [  0,   0,   0,   0,   0,   0,   0,   0,   0,   0,   0,   0,   0,\n",
       "          0,   0,   0,   0,   0,   0,   0,   0,   0,   0,   0,   0,   0,\n",
       "          0,   0]], dtype=uint8)"
      ]
     },
     "execution_count": 7,
     "metadata": {},
     "output_type": "execute_result"
    }
   ],
   "source": [
    "X_train[0]"
   ]
  },
  {
   "cell_type": "code",
   "execution_count": 11,
   "metadata": {},
   "outputs": [
    {
     "data": {
      "text/plain": [
       "5"
      ]
     },
     "execution_count": 11,
     "metadata": {},
     "output_type": "execute_result"
    }
   ],
   "source": [
    "y_train[0]"
   ]
  },
  {
   "cell_type": "code",
   "execution_count": 9,
   "metadata": {},
   "outputs": [
    {
     "data": {
      "text/plain": [
       "<matplotlib.image.AxesImage at 0x21b8eb08>"
      ]
     },
     "execution_count": 9,
     "metadata": {},
     "output_type": "execute_result"
    },
    {
     "data": {
      "image/png": "[encoded data removed]",
      "text/plain": [
       "<Figure size 432x288 with 1 Axes>"
      ]
     },
     "metadata": {
      "needs_background": "light"
     },
     "output_type": "display_data"
    }
   ],
   "source": [
    "plt.imshow(X_train[0])"
   ]
  },
  {
   "cell_type": "markdown",
   "metadata": {},
   "source": [
    "# Creating GAN"
   ]
  },
  {
   "cell_type": "code",
   "execution_count": 1,
   "metadata": {},
   "outputs": [],
   "source": [
    "import tensorflow as tf\n",
    "from tensorflow.keras.layers import Dense,Reshape,Flatten\n",
    "from tensorflow.keras.models import Sequential"
   ]
  },
  {
   "cell_type": "code",
   "execution_count": 6,
   "metadata": {},
   "outputs": [],
   "source": [
    "np.random.seed(42)\n",
    "tf.random.set_seed(42)\n",
    "codings_size = 100"
   ]
  },
  {
   "cell_type": "code",
   "execution_count": 7,
   "metadata": {},
   "outputs": [],
   "source": [
    "generator = Sequential()\n",
    "generator.add(Dense(100, activation=\"relu\", input_shape=[codings_size]))\n",
    "generator.add(Dense(150,activation='relu'))\n",
    "generator.add(Dense(784, activation=\"sigmoid\")) # 28*28 = 784\n",
    "generator.add(Reshape([28,28]))"
   ]
  },
  {
   "cell_type": "code",
   "execution_count": 8,
   "metadata": {},
   "outputs": [],
   "source": [
    "discriminator = Sequential()\n",
    "discriminator.add(Flatten(input_shape=[28,28]))\n",
    "discriminator.add(Dense(150,activation='relu'))\n",
    "discriminator.add(Dense(100,activation='relu'))\n",
    "discriminator.add(Dense(1,activation=\"sigmoid\"))\n",
    "\n",
    "discriminator.compile(loss=\"binary_crossentropy\", optimizer=\"adam\")"
   ]
  },
  {
   "cell_type": "code",
   "execution_count": 9,
   "metadata": {},
   "outputs": [],
   "source": [
    "GAN = Sequential([generator, discriminator])"
   ]
  },
  {
   "cell_type": "code",
   "execution_count": 10,
   "metadata": {},
   "outputs": [],
   "source": [
    "discriminator.trainable = False"
   ]
  },
  {
   "cell_type": "code",
   "execution_count": 11,
   "metadata": {},
   "outputs": [],
   "source": [
    "GAN.compile(loss=\"binary_crossentropy\", optimizer=\"adam\")"
   ]
  },
  {
   "cell_type": "code",
   "execution_count": 12,
   "metadata": {},
   "outputs": [
    {
     "name": "stdout",
     "output_type": "stream",
     "text": [
      "Model: \"sequential_4\"\n",
      "_________________________________________________________________\n",
      "Layer (type)                 Output Shape              Param #   \n",
      "=================================================================\n",
      "sequential_2 (Sequential)    (None, 28, 28)            143634    \n",
      "_________________________________________________________________\n",
      "sequential_3 (Sequential)    (None, 1)                 132951    \n",
      "=================================================================\n",
      "Total params: 276,585\n",
      "Trainable params: 143,634\n",
      "Non-trainable params: 132,951\n",
      "_________________________________________________________________\n"
     ]
    }
   ],
   "source": [
    "GAN.summary()"
   ]
  },
  {
   "cell_type": "code",
   "execution_count": 13,
   "metadata": {},
   "outputs": [
    {
     "name": "stdout",
     "output_type": "stream",
     "text": [
      "Model: \"sequential_2\"\n",
      "_________________________________________________________________\n",
      "Layer (type)                 Output Shape              Param #   \n",
      "=================================================================\n",
      "dense_3 (Dense)              (None, 100)               10100     \n",
      "_________________________________________________________________\n",
      "dense_4 (Dense)              (None, 150)               15150     \n",
      "_________________________________________________________________\n",
      "dense_5 (Dense)              (None, 784)               118384    \n",
      "_________________________________________________________________\n",
      "reshape (Reshape)            (None, 28, 28)            0         \n",
      "=================================================================\n",
      "Total params: 143,634\n",
      "Trainable params: 143,634\n",
      "Non-trainable params: 0\n",
      "_________________________________________________________________\n"
     ]
    }
   ],
   "source": [
    "GAN.layers[0].summary()"
   ]
  },
  {
   "cell_type": "code",
   "execution_count": 14,
   "metadata": {},
   "outputs": [
    {
     "name": "stderr",
     "output_type": "stream",
     "text": [
      "WARNING: Logging before flag parsing goes to stderr.\n",
      "W0223 22:26:12.024759  2536 training.py:2090] Discrepancy between trainable weights and collected trainable weights, did you set `model.trainable` without calling `model.compile` after ?\n"
     ]
    },
    {
     "name": "stdout",
     "output_type": "stream",
     "text": [
      "Model: \"sequential_3\"\n",
      "_________________________________________________________________\n",
      "Layer (type)                 Output Shape              Param #   \n",
      "=================================================================\n",
      "flatten_1 (Flatten)          (None, 784)               0         \n",
      "_________________________________________________________________\n",
      "dense_6 (Dense)              (None, 150)               117750    \n",
      "_________________________________________________________________\n",
      "dense_7 (Dense)              (None, 100)               15100     \n",
      "_________________________________________________________________\n",
      "dense_8 (Dense)              (None, 1)                 101       \n",
      "=================================================================\n",
      "Total params: 265,902\n",
      "Trainable params: 132,951\n",
      "Non-trainable params: 132,951\n",
      "_________________________________________________________________\n"
     ]
    }
   ],
   "source": [
    "GAN.layers[1].summary()"
   ]
  },
  {
   "cell_type": "markdown",
   "metadata": {},
   "source": [
    "# Training"
   ]
  },
  {
   "cell_type": "code",
   "execution_count": 15,
   "metadata": {},
   "outputs": [],
   "source": [
    "batch_size = 32"
   ]
  },
  {
   "cell_type": "code",
   "execution_count": 20,
   "metadata": {},
   "outputs": [],
   "source": [
    "data_to_train = X_train"
   ]
  },
  {
   "cell_type": "code",
   "execution_count": 21,
   "metadata": {},
   "outputs": [],
   "source": [
    "dataset = tf.data.Dataset.from_tensor_slices(data_to_train).shuffle(buffer_size=1000)"
   ]
  },
  {
   "cell_type": "code",
   "execution_count": 22,
   "metadata": {},
   "outputs": [],
   "source": [
    "dataset = dataset.batch(batch_size, drop_remainder=True).prefetch(1)"
   ]
  },
  {
   "cell_type": "code",
   "execution_count": 37,
   "metadata": {},
   "outputs": [],
   "source": [
    "epochs=20"
   ]
  },
  {
   "cell_type": "code",
   "execution_count": 38,
   "metadata": {},
   "outputs": [
    {
     "name": "stdout",
     "output_type": "stream",
     "text": [
      "Currently on Epoch 1\n",
      "\tCurrently on batch number 100 of 1875\n",
      "\tCurrently on batch number 200 of 1875\n",
      "\tCurrently on batch number 300 of 1875\n",
      "\tCurrently on batch number 400 of 1875\n",
      "\tCurrently on batch number 500 of 1875\n",
      "\tCurrently on batch number 600 of 1875\n",
      "\tCurrently on batch number 700 of 1875\n",
      "\tCurrently on batch number 800 of 1875\n",
      "\tCurrently on batch number 900 of 1875\n",
      "\tCurrently on batch number 1000 of 1875\n",
      "\tCurrently on batch number 1100 of 1875\n",
      "\tCurrently on batch number 1200 of 1875\n",
      "\tCurrently on batch number 1300 of 1875\n",
      "\tCurrently on batch number 1400 of 1875\n",
      "\tCurrently on batch number 1500 of 1875\n",
      "\tCurrently on batch number 1600 of 1875\n",
      "\tCurrently on batch number 1700 of 1875\n",
      "\tCurrently on batch number 1800 of 1875\n",
      "Currently on Epoch 2\n",
      "\tCurrently on batch number 100 of 1875\n",
      "\tCurrently on batch number 200 of 1875\n",
      "\tCurrently on batch number 300 of 1875\n",
      "\tCurrently on batch number 400 of 1875\n",
      "\tCurrently on batch number 500 of 1875\n",
      "\tCurrently on batch number 600 of 1875\n",
      "\tCurrently on batch number 700 of 1875\n",
      "\tCurrently on batch number 800 of 1875\n",
      "\tCurrently on batch number 900 of 1875\n",
      "\tCurrently on batch number 1000 of 1875\n",
      "\tCurrently on batch number 1100 of 1875\n",
      "\tCurrently on batch number 1200 of 1875\n",
      "\tCurrently on batch number 1300 of 1875\n",
      "\tCurrently on batch number 1400 of 1875\n",
      "\tCurrently on batch number 1500 of 1875\n",
      "\tCurrently on batch number 1600 of 1875\n",
      "\tCurrently on batch number 1700 of 1875\n",
      "\tCurrently on batch number 1800 of 1875\n",
      "Currently on Epoch 3\n",
      "\tCurrently on batch number 100 of 1875\n",
      "\tCurrently on batch number 200 of 1875\n",
      "\tCurrently on batch number 300 of 1875\n",
      "\tCurrently on batch number 400 of 1875\n",
      "\tCurrently on batch number 500 of 1875\n",
      "\tCurrently on batch number 600 of 1875\n",
      "\tCurrently on batch number 700 of 1875\n",
      "\tCurrently on batch number 800 of 1875\n",
      "\tCurrently on batch number 900 of 1875\n",
      "\tCurrently on batch number 1000 of 1875\n",
      "\tCurrently on batch number 1100 of 1875\n",
      "\tCurrently on batch number 1200 of 1875\n",
      "\tCurrently on batch number 1300 of 1875\n",
      "\tCurrently on batch number 1400 of 1875\n",
      "\tCurrently on batch number 1500 of 1875\n",
      "\tCurrently on batch number 1600 of 1875\n",
      "\tCurrently on batch number 1700 of 1875\n",
      "\tCurrently on batch number 1800 of 1875\n",
      "Currently on Epoch 4\n",
      "\tCurrently on batch number 100 of 1875\n",
      "\tCurrently on batch number 200 of 1875\n",
      "\tCurrently on batch number 300 of 1875\n",
      "\tCurrently on batch number 400 of 1875\n",
      "\tCurrently on batch number 500 of 1875\n",
      "\tCurrently on batch number 600 of 1875\n",
      "\tCurrently on batch number 700 of 1875\n",
      "\tCurrently on batch number 800 of 1875\n",
      "\tCurrently on batch number 900 of 1875\n",
      "\tCurrently on batch number 1000 of 1875\n",
      "\tCurrently on batch number 1100 of 1875\n",
      "\tCurrently on batch number 1200 of 1875\n",
      "\tCurrently on batch number 1300 of 1875\n",
      "\tCurrently on batch number 1400 of 1875\n",
      "\tCurrently on batch number 1500 of 1875\n",
      "\tCurrently on batch number 1600 of 1875\n",
      "\tCurrently on batch number 1700 of 1875\n",
      "\tCurrently on batch number 1800 of 1875\n",
      "Currently on Epoch 5\n",
      "\tCurrently on batch number 100 of 1875\n",
      "\tCurrently on batch number 200 of 1875\n",
      "\tCurrently on batch number 300 of 1875\n",
      "\tCurrently on batch number 400 of 1875\n",
      "\tCurrently on batch number 500 of 1875\n",
      "\tCurrently on batch number 600 of 1875\n",
      "\tCurrently on batch number 700 of 1875\n",
      "\tCurrently on batch number 800 of 1875\n",
      "\tCurrently on batch number 900 of 1875\n",
      "\tCurrently on batch number 1000 of 1875\n",
      "\tCurrently on batch number 1100 of 1875\n",
      "\tCurrently on batch number 1200 of 1875\n",
      "\tCurrently on batch number 1300 of 1875\n",
      "\tCurrently on batch number 1400 of 1875\n",
      "\tCurrently on batch number 1500 of 1875\n",
      "\tCurrently on batch number 1600 of 1875\n",
      "\tCurrently on batch number 1700 of 1875\n",
      "\tCurrently on batch number 1800 of 1875\n",
      "Currently on Epoch 6\n",
      "\tCurrently on batch number 100 of 1875\n",
      "\tCurrently on batch number 200 of 1875\n",
      "\tCurrently on batch number 300 of 1875\n",
      "\tCurrently on batch number 400 of 1875\n",
      "\tCurrently on batch number 500 of 1875\n",
      "\tCurrently on batch number 600 of 1875\n",
      "\tCurrently on batch number 700 of 1875\n",
      "\tCurrently on batch number 800 of 1875\n",
      "\tCurrently on batch number 900 of 1875\n",
      "\tCurrently on batch number 1000 of 1875\n",
      "\tCurrently on batch number 1100 of 1875\n",
      "\tCurrently on batch number 1200 of 1875\n",
      "\tCurrently on batch number 1300 of 1875\n",
      "\tCurrently on batch number 1400 of 1875\n",
      "\tCurrently on batch number 1500 of 1875\n",
      "\tCurrently on batch number 1600 of 1875\n",
      "\tCurrently on batch number 1700 of 1875\n",
      "\tCurrently on batch number 1800 of 1875\n",
      "Currently on Epoch 7\n",
      "\tCurrently on batch number 100 of 1875\n",
      "\tCurrently on batch number 200 of 1875\n",
      "\tCurrently on batch number 300 of 1875\n",
      "\tCurrently on batch number 400 of 1875\n",
      "\tCurrently on batch number 500 of 1875\n",
      "\tCurrently on batch number 600 of 1875\n",
      "\tCurrently on batch number 700 of 1875\n",
      "\tCurrently on batch number 800 of 1875\n",
      "\tCurrently on batch number 900 of 1875\n",
      "\tCurrently on batch number 1000 of 1875\n",
      "\tCurrently on batch number 1100 of 1875\n",
      "\tCurrently on batch number 1200 of 1875\n",
      "\tCurrently on batch number 1300 of 1875\n",
      "\tCurrently on batch number 1400 of 1875\n",
      "\tCurrently on batch number 1500 of 1875\n",
      "\tCurrently on batch number 1600 of 1875\n",
      "\tCurrently on batch number 1700 of 1875\n",
      "\tCurrently on batch number 1800 of 1875\n",
      "Currently on Epoch 8\n",
      "\tCurrently on batch number 100 of 1875\n",
      "\tCurrently on batch number 200 of 1875\n",
      "\tCurrently on batch number 300 of 1875\n",
      "\tCurrently on batch number 400 of 1875\n",
      "\tCurrently on batch number 500 of 1875\n",
      "\tCurrently on batch number 600 of 1875\n",
      "\tCurrently on batch number 700 of 1875\n",
      "\tCurrently on batch number 800 of 1875\n",
      "\tCurrently on batch number 900 of 1875\n",
      "\tCurrently on batch number 1000 of 1875\n",
      "\tCurrently on batch number 1100 of 1875\n",
      "\tCurrently on batch number 1200 of 1875\n",
      "\tCurrently on batch number 1300 of 1875\n",
      "\tCurrently on batch number 1400 of 1875\n",
      "\tCurrently on batch number 1500 of 1875\n",
      "\tCurrently on batch number 1600 of 1875\n",
      "\tCurrently on batch number 1700 of 1875\n",
      "\tCurrently on batch number 1800 of 1875\n",
      "Currently on Epoch 9\n",
      "\tCurrently on batch number 100 of 1875\n",
      "\tCurrently on batch number 200 of 1875\n",
      "\tCurrently on batch number 300 of 1875\n",
      "\tCurrently on batch number 400 of 1875\n",
      "\tCurrently on batch number 500 of 1875\n",
      "\tCurrently on batch number 600 of 1875\n",
      "\tCurrently on batch number 700 of 1875\n",
      "\tCurrently on batch number 800 of 1875\n",
      "\tCurrently on batch number 900 of 1875\n",
      "\tCurrently on batch number 1000 of 1875\n",
      "\tCurrently on batch number 1100 of 1875\n",
      "\tCurrently on batch number 1200 of 1875\n",
      "\tCurrently on batch number 1300 of 1875\n",
      "\tCurrently on batch number 1400 of 1875\n",
      "\tCurrently on batch number 1500 of 1875\n",
      "\tCurrently on batch number 1600 of 1875\n",
      "\tCurrently on batch number 1700 of 1875\n",
      "\tCurrently on batch number 1800 of 1875\n",
      "Currently on Epoch 10\n",
      "\tCurrently on batch number 100 of 1875\n",
      "\tCurrently on batch number 200 of 1875\n",
      "\tCurrently on batch number 300 of 1875\n",
      "\tCurrently on batch number 400 of 1875\n",
      "\tCurrently on batch number 500 of 1875\n",
      "\tCurrently on batch number 600 of 1875\n",
      "\tCurrently on batch number 700 of 1875\n",
      "\tCurrently on batch number 800 of 1875\n",
      "\tCurrently on batch number 900 of 1875\n",
      "\tCurrently on batch number 1000 of 1875\n",
      "\tCurrently on batch number 1100 of 1875\n",
      "\tCurrently on batch number 1200 of 1875\n",
      "\tCurrently on batch number 1300 of 1875\n",
      "\tCurrently on batch number 1400 of 1875\n",
      "\tCurrently on batch number 1500 of 1875\n",
      "\tCurrently on batch number 1600 of 1875\n",
      "\tCurrently on batch number 1700 of 1875\n",
      "\tCurrently on batch number 1800 of 1875\n",
      "Currently on Epoch 11\n",
      "\tCurrently on batch number 100 of 1875\n",
      "\tCurrently on batch number 200 of 1875\n",
      "\tCurrently on batch number 300 of 1875\n",
      "\tCurrently on batch number 400 of 1875\n",
      "\tCurrently on batch number 500 of 1875\n",
      "\tCurrently on batch number 600 of 1875\n",
      "\tCurrently on batch number 700 of 1875\n",
      "\tCurrently on batch number 800 of 1875\n",
      "\tCurrently on batch number 900 of 1875\n",
      "\tCurrently on batch number 1000 of 1875\n",
      "\tCurrently on batch number 1100 of 1875\n",
      "\tCurrently on batch number 1200 of 1875\n",
      "\tCurrently on batch number 1300 of 1875\n",
      "\tCurrently on batch number 1400 of 1875\n",
      "\tCurrently on batch number 1500 of 1875\n",
      "\tCurrently on batch number 1600 of 1875\n",
      "\tCurrently on batch number 1700 of 1875\n",
      "\tCurrently on batch number 1800 of 1875\n",
      "Currently on Epoch 12\n",
      "\tCurrently on batch number 100 of 1875\n",
      "\tCurrently on batch number 200 of 1875\n",
      "\tCurrently on batch number 300 of 1875\n"
     ]
    },
    {
     "name": "stdout",
     "output_type": "stream",
     "text": [
      "\tCurrently on batch number 400 of 1875\n",
      "\tCurrently on batch number 500 of 1875\n",
      "\tCurrently on batch number 600 of 1875\n",
      "\tCurrently on batch number 700 of 1875\n",
      "\tCurrently on batch number 800 of 1875\n",
      "\tCurrently on batch number 900 of 1875\n",
      "\tCurrently on batch number 1000 of 1875\n",
      "\tCurrently on batch number 1100 of 1875\n",
      "\tCurrently on batch number 1200 of 1875\n",
      "\tCurrently on batch number 1300 of 1875\n",
      "\tCurrently on batch number 1400 of 1875\n",
      "\tCurrently on batch number 1500 of 1875\n",
      "\tCurrently on batch number 1600 of 1875\n",
      "\tCurrently on batch number 1700 of 1875\n",
      "\tCurrently on batch number 1800 of 1875\n",
      "Currently on Epoch 13\n",
      "\tCurrently on batch number 100 of 1875\n",
      "\tCurrently on batch number 200 of 1875\n",
      "\tCurrently on batch number 300 of 1875\n",
      "\tCurrently on batch number 400 of 1875\n",
      "\tCurrently on batch number 500 of 1875\n",
      "\tCurrently on batch number 600 of 1875\n",
      "\tCurrently on batch number 700 of 1875\n",
      "\tCurrently on batch number 800 of 1875\n",
      "\tCurrently on batch number 900 of 1875\n",
      "\tCurrently on batch number 1000 of 1875\n",
      "\tCurrently on batch number 1100 of 1875\n",
      "\tCurrently on batch number 1200 of 1875\n",
      "\tCurrently on batch number 1300 of 1875\n",
      "\tCurrently on batch number 1400 of 1875\n",
      "\tCurrently on batch number 1500 of 1875\n",
      "\tCurrently on batch number 1600 of 1875\n",
      "\tCurrently on batch number 1700 of 1875\n",
      "\tCurrently on batch number 1800 of 1875\n",
      "Currently on Epoch 14\n",
      "\tCurrently on batch number 100 of 1875\n",
      "\tCurrently on batch number 200 of 1875\n",
      "\tCurrently on batch number 300 of 1875\n",
      "\tCurrently on batch number 400 of 1875\n",
      "\tCurrently on batch number 500 of 1875\n",
      "\tCurrently on batch number 600 of 1875\n",
      "\tCurrently on batch number 700 of 1875\n",
      "\tCurrently on batch number 800 of 1875\n",
      "\tCurrently on batch number 900 of 1875\n",
      "\tCurrently on batch number 1000 of 1875\n",
      "\tCurrently on batch number 1100 of 1875\n",
      "\tCurrently on batch number 1200 of 1875\n",
      "\tCurrently on batch number 1300 of 1875\n",
      "\tCurrently on batch number 1400 of 1875\n",
      "\tCurrently on batch number 1500 of 1875\n",
      "\tCurrently on batch number 1600 of 1875\n",
      "\tCurrently on batch number 1700 of 1875\n",
      "\tCurrently on batch number 1800 of 1875\n",
      "Currently on Epoch 15\n",
      "\tCurrently on batch number 100 of 1875\n",
      "\tCurrently on batch number 200 of 1875\n",
      "\tCurrently on batch number 300 of 1875\n",
      "\tCurrently on batch number 400 of 1875\n",
      "\tCurrently on batch number 500 of 1875\n",
      "\tCurrently on batch number 600 of 1875\n",
      "\tCurrently on batch number 700 of 1875\n",
      "\tCurrently on batch number 800 of 1875\n",
      "\tCurrently on batch number 900 of 1875\n",
      "\tCurrently on batch number 1000 of 1875\n",
      "\tCurrently on batch number 1100 of 1875\n",
      "\tCurrently on batch number 1200 of 1875\n",
      "\tCurrently on batch number 1300 of 1875\n",
      "\tCurrently on batch number 1400 of 1875\n",
      "\tCurrently on batch number 1500 of 1875\n",
      "\tCurrently on batch number 1600 of 1875\n",
      "\tCurrently on batch number 1700 of 1875\n",
      "\tCurrently on batch number 1800 of 1875\n",
      "Currently on Epoch 16\n",
      "\tCurrently on batch number 100 of 1875\n",
      "\tCurrently on batch number 200 of 1875\n",
      "\tCurrently on batch number 300 of 1875\n",
      "\tCurrently on batch number 400 of 1875\n",
      "\tCurrently on batch number 500 of 1875\n",
      "\tCurrently on batch number 600 of 1875\n",
      "\tCurrently on batch number 700 of 1875\n",
      "\tCurrently on batch number 800 of 1875\n",
      "\tCurrently on batch number 900 of 1875\n",
      "\tCurrently on batch number 1000 of 1875\n",
      "\tCurrently on batch number 1100 of 1875\n",
      "\tCurrently on batch number 1200 of 1875\n",
      "\tCurrently on batch number 1300 of 1875\n",
      "\tCurrently on batch number 1400 of 1875\n",
      "\tCurrently on batch number 1500 of 1875\n",
      "\tCurrently on batch number 1600 of 1875\n",
      "\tCurrently on batch number 1700 of 1875\n",
      "\tCurrently on batch number 1800 of 1875\n",
      "Currently on Epoch 17\n",
      "\tCurrently on batch number 100 of 1875\n",
      "\tCurrently on batch number 200 of 1875\n",
      "\tCurrently on batch number 300 of 1875\n",
      "\tCurrently on batch number 400 of 1875\n",
      "\tCurrently on batch number 500 of 1875\n",
      "\tCurrently on batch number 600 of 1875\n",
      "\tCurrently on batch number 700 of 1875\n",
      "\tCurrently on batch number 800 of 1875\n",
      "\tCurrently on batch number 900 of 1875\n",
      "\tCurrently on batch number 1000 of 1875\n",
      "\tCurrently on batch number 1100 of 1875\n",
      "\tCurrently on batch number 1200 of 1875\n",
      "\tCurrently on batch number 1300 of 1875\n",
      "\tCurrently on batch number 1400 of 1875\n",
      "\tCurrently on batch number 1500 of 1875\n",
      "\tCurrently on batch number 1600 of 1875\n",
      "\tCurrently on batch number 1700 of 1875\n",
      "\tCurrently on batch number 1800 of 1875\n",
      "Currently on Epoch 18\n",
      "\tCurrently on batch number 100 of 1875\n",
      "\tCurrently on batch number 200 of 1875\n",
      "\tCurrently on batch number 300 of 1875\n",
      "\tCurrently on batch number 400 of 1875\n",
      "\tCurrently on batch number 500 of 1875\n",
      "\tCurrently on batch number 600 of 1875\n",
      "\tCurrently on batch number 700 of 1875\n",
      "\tCurrently on batch number 800 of 1875\n",
      "\tCurrently on batch number 900 of 1875\n",
      "\tCurrently on batch number 1000 of 1875\n",
      "\tCurrently on batch number 1100 of 1875\n",
      "\tCurrently on batch number 1200 of 1875\n",
      "\tCurrently on batch number 1300 of 1875\n",
      "\tCurrently on batch number 1400 of 1875\n",
      "\tCurrently on batch number 1500 of 1875\n",
      "\tCurrently on batch number 1600 of 1875\n",
      "\tCurrently on batch number 1700 of 1875\n",
      "\tCurrently on batch number 1800 of 1875\n",
      "Currently on Epoch 19\n",
      "\tCurrently on batch number 100 of 1875\n",
      "\tCurrently on batch number 200 of 1875\n",
      "\tCurrently on batch number 300 of 1875\n",
      "\tCurrently on batch number 400 of 1875\n",
      "\tCurrently on batch number 500 of 1875\n",
      "\tCurrently on batch number 600 of 1875\n",
      "\tCurrently on batch number 700 of 1875\n",
      "\tCurrently on batch number 800 of 1875\n",
      "\tCurrently on batch number 900 of 1875\n",
      "\tCurrently on batch number 1000 of 1875\n",
      "\tCurrently on batch number 1100 of 1875\n",
      "\tCurrently on batch number 1200 of 1875\n",
      "\tCurrently on batch number 1300 of 1875\n",
      "\tCurrently on batch number 1400 of 1875\n",
      "\tCurrently on batch number 1500 of 1875\n",
      "\tCurrently on batch number 1600 of 1875\n",
      "\tCurrently on batch number 1700 of 1875\n",
      "\tCurrently on batch number 1800 of 1875\n",
      "Currently on Epoch 20\n",
      "\tCurrently on batch number 100 of 1875\n",
      "\tCurrently on batch number 200 of 1875\n",
      "\tCurrently on batch number 300 of 1875\n",
      "\tCurrently on batch number 400 of 1875\n",
      "\tCurrently on batch number 500 of 1875\n",
      "\tCurrently on batch number 600 of 1875\n",
      "\tCurrently on batch number 700 of 1875\n",
      "\tCurrently on batch number 800 of 1875\n",
      "\tCurrently on batch number 900 of 1875\n",
      "\tCurrently on batch number 1000 of 1875\n",
      "\tCurrently on batch number 1100 of 1875\n",
      "\tCurrently on batch number 1200 of 1875\n",
      "\tCurrently on batch number 1300 of 1875\n",
      "\tCurrently on batch number 1400 of 1875\n",
      "\tCurrently on batch number 1500 of 1875\n",
      "\tCurrently on batch number 1600 of 1875\n",
      "\tCurrently on batch number 1700 of 1875\n",
      "\tCurrently on batch number 1800 of 1875\n",
      "TRAINING COMPLETE\n"
     ]
    }
   ],
   "source": [
    "#Code from Hands-On book\n",
    "generator, discriminator = GAN.layers\n",
    "\n",
    "# For every epoch\n",
    "for epoch in range(epochs):\n",
    "    print(f\"Currently on Epoch {epoch+1}\")\n",
    "    i = 0\n",
    "    # For every batch in the dataset\n",
    "    for X_batch in dataset:\n",
    "        i=i+1\n",
    "        if i%100 == 0:\n",
    "            print(f\"\\tCurrently on batch number {i} of {len(data_to_train)//batch_size}\")\n",
    "        #####################################\n",
    "        ## TRAINING THE DISCRIMINATOR ######\n",
    "        ###################################\n",
    "        \n",
    "        # Create Noise\n",
    "        noise = tf.random.normal(shape=[batch_size, codings_size])\n",
    "        \n",
    "        # Generate numbers based just on noise input\n",
    "        gen_images = generator(noise)\n",
    "        \n",
    "        # Concatenate Generated Images against the Real Ones\n",
    "        # TO use tf.concat, the data types must match!\n",
    "        X_fake_vs_real = tf.concat([gen_images, tf.dtypes.cast(X_batch,tf.float32)], axis=0)\n",
    "        \n",
    "        # Targets set to zero for fake images and 1 for real images\n",
    "        y1 = tf.constant([[0.]] * batch_size + [[1.]] * batch_size)\n",
    "        \n",
    "        # This gets rid of a Keras warning\n",
    "        discriminator.trainable = True\n",
    "        \n",
    "        # Train the discriminator on this batch\n",
    "        discriminator.train_on_batch(X_fake_vs_real, y1)\n",
    "        \n",
    "        \n",
    "        #####################################\n",
    "        ## TRAINING THE GENERATOR     ######\n",
    "        ###################################\n",
    "        \n",
    "        # Create some noise\n",
    "        noise = tf.random.normal(shape=[batch_size, codings_size])\n",
    "        \n",
    "        # We want discriminator to belive that fake images are real\n",
    "        y2 = tf.constant([[1.]] * batch_size)\n",
    "        \n",
    "        # Avois a warning, weights are frozen so backpropagation only affects the weights of the generator\n",
    "        discriminator.trainable = False\n",
    "        \n",
    "        GAN.train_on_batch(noise, y2)\n",
    "        \n",
    "print(\"TRAINING COMPLETE\")            "
   ]
  },
  {
   "cell_type": "code",
   "execution_count": 48,
   "metadata": {},
   "outputs": [],
   "source": [
    "noise = tf.random.normal(shape=[1, codings_size])"
   ]
  },
  {
   "cell_type": "code",
   "execution_count": 49,
   "metadata": {},
   "outputs": [
    {
     "data": {
      "text/plain": [
       "TensorShape([1, 100])"
      ]
     },
     "execution_count": 49,
     "metadata": {},
     "output_type": "execute_result"
    }
   ],
   "source": [
    "noise.shape"
   ]
  },
  {
   "cell_type": "code",
   "execution_count": 50,
   "metadata": {},
   "outputs": [
    {
     "data": {
      "text/plain": [
       "<matplotlib.image.AxesImage at 0x17e505c0>"
      ]
     },
     "execution_count": 50,
     "metadata": {},
     "output_type": "execute_result"
    },
    {
     "data": {
      "image/png": "[encoded data removed]",
      "text/plain": [
       "<Figure size 432x288 with 1 Axes>"
      ]
     },
     "metadata": {
      "needs_background": "light"
     },
     "output_type": "display_data"
    }
   ],
   "source": [
    "plt.imshow(noise)"
   ]
  },
  {
   "cell_type": "code",
   "execution_count": 51,
   "metadata": {},
   "outputs": [],
   "source": [
    "image = generator(noise)"
   ]
  },
  {
   "cell_type": "code",
   "execution_count": 52,
   "metadata": {},
   "outputs": [
    {
     "data": {
      "text/plain": [
       "1"
      ]
     },
     "execution_count": 52,
     "metadata": {},
     "output_type": "execute_result"
    }
   ],
   "source": [
    "len(image)"
   ]
  },
  {
   "cell_type": "code",
   "execution_count": 55,
   "metadata": {},
   "outputs": [
    {
     "data": {
      "text/plain": [
       "<matplotlib.image.AxesImage at 0x180ccb70>"
      ]
     },
     "execution_count": 55,
     "metadata": {},
     "output_type": "execute_result"
    },
    {
     "data": {
      "image/png": "[encoded data removed]",
      "text/plain": [
       "<Figure size 432x288 with 1 Axes>"
      ]
     },
     "metadata": {
      "needs_background": "light"
     },
     "output_type": "display_data"
    }
   ],
   "source": [
    "plt.imshow(image[0])"
   ]
  },
  {
   "cell_type": "code",
   "execution_count": 71,
   "metadata": {},
   "outputs": [
    {
     "data": {
      "text/plain": [
       "<matplotlib.image.AxesImage at 0x1a56cb70>"
      ]
     },
     "execution_count": 71,
     "metadata": {},
     "output_type": "execute_result"
    },
    {
     "data": {
      "image/png": "[encoded data removed]",
      "text/plain": [
       "<Figure size 432x288 with 1 Axes>"
      ]
     },
     "metadata": {
      "needs_background": "light"
     },
     "output_type": "display_data"
    }
   ],
   "source": [
    "plt.imshow(generator(tf.random.normal(shape=[1,codings_size]))[0])"
   ]
  },
  {
   "cell_type": "markdown",
   "metadata": {},
   "source": [
    "Generator creates everytime the same image. That is an example of mode collapse which model learnt to create only one image which will be enough to fool discriminator. "
   ]
  },
  {
   "cell_type": "markdown",
   "metadata": {},
   "source": [
    "To check if reason for this is small number of epochs the loop is going to work for hundreds epochs. To do this I will use google collab or kaggle resources for using gpu."
   ]
  },
  {
   "cell_type": "markdown",
   "metadata": {},
   "source": [
    "Another experiment is to check this code for Fashion MNIST"
   ]
  }
 ],
 "metadata": {
  "kernelspec": {
   "display_name": "Python 3",
   "language": "python",
   "name": "python3"
  },
  "language_info": {
   "codemirror_mode": {
    "name": "ipython",
    "version": 3
   },
   "file_extension": ".py",
   "mimetype": "text/x-python",
   "name": "python",
   "nbconvert_exporter": "python",
   "pygments_lexer": "ipython3",
   "version": "3.7.3"
  },
  "toc": {
   "base_numbering": 1,
   "nav_menu": {},
   "number_sections": true,
   "sideBar": true,
   "skip_h1_title": false,
   "title_cell": "Table of Contents",
   "title_sidebar": "Contents",
   "toc_cell": false,
   "toc_position": {},
   "toc_section_display": true,
   "toc_window_display": false
  }
 },
 "nbformat": 4,
 "nbformat_minor": 2
}
